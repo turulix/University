{
 "cells": [
  {
   "cell_type": "code",
   "id": "initial_id",
   "metadata": {
    "collapsed": true,
    "ExecuteTime": {
     "end_time": "2024-04-29T13:32:47.463803Z",
     "start_time": "2024-04-29T13:32:47.442011Z"
    }
   },
   "source": [
    "import gurobipy as gp\n",
    "from gurobipy import GRB\n",
    "\n",
    "# Create a new model\n",
    "m = gp.Model(\"EggProblem\")\n",
    "\n",
    "# Define variable\n",
    "x = m.addVar(vtype=GRB.INTEGER, name=\"x\")\n",
    "\n",
    "# Define binary variables for remainders\n",
    "rem_2 = m.addVar(vtype=GRB.INTEGER, name=\"rem_2\")\n",
    "rem_3 = m.addVar(vtype=GRB.INTEGER, name=\"rem_3\")\n",
    "rem_4 = m.addVar(vtype=GRB.INTEGER, name=\"rem_4\")\n",
    "rem_5 = m.addVar(vtype=GRB.INTEGER, name=\"rem_5\")\n",
    "rem_6 = m.addVar(vtype=GRB.INTEGER, name=\"rem_6\")\n",
    "rem_7 = m.addVar(vtype=GRB.INTEGER, name=\"rem_7\")\n",
    "\n",
    "# Set objective\n",
    "m.setObjective(x, GRB.MINIMIZE)\n",
    "\n",
    "# Add constraints\n",
    "m.addConstr(x - 2 * rem_2 == 1, \"c0\")\n",
    "m.addConstr(x - 3 * rem_3 == 1, \"c1\")\n",
    "m.addConstr(x - 4 * rem_4 == 1, \"c2\")\n",
    "m.addConstr(x - 5 * rem_5 == 1, \"c3\")\n",
    "m.addConstr(x - 6 * rem_6 == 1, \"c4\")\n",
    "m.addConstr(x - 7 * rem_7 == 0, \"c5\")\n",
    "\n",
    "# Optimize model\n",
    "m.optimize()\n",
    "\n",
    "print('Solution: x =', x.x)\n",
    "print('Remainders: 2 =', rem_2.x, ', 3 =', rem_3.x, ', 4 =', rem_4.x, ', 5 =', rem_5.x, ', 6 =', rem_6.x, ', 7 =', rem_7.x)"
   ],
   "outputs": [
    {
     "name": "stdout",
     "output_type": "stream",
     "text": [
      "Gurobi Optimizer version 11.0.1 build v11.0.1rc0 (win64 - Windows 11.0 (22631.2))\n",
      "\n",
      "CPU model: AMD Ryzen 9 5900X 12-Core Processor, instruction set [SSE2|AVX|AVX2]\n",
      "Thread count: 12 physical cores, 24 logical processors, using up to 24 threads\n",
      "\n",
      "Academic license 2495314 - for non-commercial use only - registered to re___@h-ka.de\n",
      "Optimize a model with 6 rows, 7 columns and 12 nonzeros\n",
      "Model fingerprint: 0x225134cc\n",
      "Variable types: 0 continuous, 7 integer (0 binary)\n",
      "Coefficient statistics:\n",
      "  Matrix range     [1e+00, 7e+00]\n",
      "  Objective range  [1e+00, 1e+00]\n",
      "  Bounds range     [0e+00, 0e+00]\n",
      "  RHS range        [1e+00, 1e+00]\n",
      "Presolve removed 6 rows and 7 columns\n",
      "Presolve time: 0.00s\n",
      "Presolve: All rows and columns removed\n",
      "\n",
      "Explored 0 nodes (0 simplex iterations) in 0.01 seconds (0.00 work units)\n",
      "Thread count was 1 (of 24 available processors)\n",
      "\n",
      "Solution count 1: 301 \n",
      "\n",
      "Optimal solution found (tolerance 1.00e-04)\n",
      "Best objective 3.010000000000e+02, best bound 3.010000000000e+02, gap 0.0000%\n",
      "Solution: x = 301.0\n",
      "Remainders: 2 = 150.0 , 3 = 100.0 , 4 = 75.0 , 5 = 60.0 , 6 = 50.0 , 7 = 43.0\n"
     ]
    }
   ],
   "execution_count": 9
  }
 ],
 "metadata": {
  "kernelspec": {
   "display_name": "Python 3",
   "language": "python",
   "name": "python3"
  },
  "language_info": {
   "codemirror_mode": {
    "name": "ipython",
    "version": 2
   },
   "file_extension": ".py",
   "mimetype": "text/x-python",
   "name": "python",
   "nbconvert_exporter": "python",
   "pygments_lexer": "ipython2",
   "version": "2.7.6"
  }
 },
 "nbformat": 4,
 "nbformat_minor": 5
}
