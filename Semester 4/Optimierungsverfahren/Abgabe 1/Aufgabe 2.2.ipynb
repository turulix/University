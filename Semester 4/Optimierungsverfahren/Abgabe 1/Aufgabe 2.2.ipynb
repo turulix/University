{
 "cells": [
  {
   "cell_type": "code",
   "id": "initial_id",
   "metadata": {
    "collapsed": true,
    "ExecuteTime": {
     "end_time": "2024-04-18T23:14:37.881631Z",
     "start_time": "2024-04-18T23:14:37.869082Z"
    }
   },
   "source": [
    "import pandas as pd\n",
    "\n",
    "import gurobipy as gp\n",
    "from gurobipy import GRB"
   ],
   "outputs": [],
   "execution_count": 52
  },
  {
   "metadata": {
    "ExecuteTime": {
     "end_time": "2024-04-18T23:14:37.897146Z",
     "start_time": "2024-04-18T23:14:37.882627Z"
    }
   },
   "cell_type": "code",
   "source": [
    "length = [33, 41, 47, 19, 11, 61, 19]\n",
    "profit = [27, 28, 22, 29, 24, 25, 28]\n",
    "\n",
    "max_length = 100\n"
   ],
   "id": "fd8c91d260c72ca3",
   "outputs": [],
   "execution_count": 53
  },
  {
   "metadata": {
    "ExecuteTime": {
     "end_time": "2024-04-18T23:14:37.912711Z",
     "start_time": "2024-04-18T23:14:37.898145Z"
    }
   },
   "cell_type": "code",
   "source": "m = gp.Model(\"AuftragsWähler\")",
   "id": "734f9451a01fcb5c",
   "outputs": [],
   "execution_count": 54
  },
  {
   "metadata": {
    "ExecuteTime": {
     "end_time": "2024-04-18T23:14:37.927775Z",
     "start_time": "2024-04-18T23:14:37.913715Z"
    }
   },
   "cell_type": "code",
   "source": [
    "x = m.addVars(range(len(length)), name=\"x\", vtype=GRB.BINARY)\n",
    "x"
   ],
   "id": "98f3144ec31e92e7",
   "outputs": [
    {
     "data": {
      "text/plain": [
       "{0: <gurobi.Var *Awaiting Model Update*>,\n",
       " 1: <gurobi.Var *Awaiting Model Update*>,\n",
       " 2: <gurobi.Var *Awaiting Model Update*>,\n",
       " 3: <gurobi.Var *Awaiting Model Update*>,\n",
       " 4: <gurobi.Var *Awaiting Model Update*>,\n",
       " 5: <gurobi.Var *Awaiting Model Update*>,\n",
       " 6: <gurobi.Var *Awaiting Model Update*>}"
      ]
     },
     "execution_count": 55,
     "metadata": {},
     "output_type": "execute_result"
    }
   ],
   "execution_count": 55
  },
  {
   "metadata": {
    "ExecuteTime": {
     "end_time": "2024-04-18T23:14:37.943317Z",
     "start_time": "2024-04-18T23:14:37.928774Z"
    }
   },
   "cell_type": "code",
   "source": "m.setObjective(gp.quicksum(length[i] * profit[i] * x[i] for i in range(len(length))), GRB.MAXIMIZE)",
   "id": "3969c90222000a8c",
   "outputs": [],
   "execution_count": 56
  },
  {
   "metadata": {
    "ExecuteTime": {
     "end_time": "2024-04-18T23:14:37.958487Z",
     "start_time": "2024-04-18T23:14:37.944318Z"
    }
   },
   "cell_type": "code",
   "source": "m.addConstr((gp.quicksum(length[i] * x[i] for i in range(len(length))) ) <= max_length)",
   "id": "be725bbe213e9927",
   "outputs": [
    {
     "data": {
      "text/plain": [
       "<gurobi.Constr *Awaiting Model Update*>"
      ]
     },
     "execution_count": 57,
     "metadata": {},
     "output_type": "execute_result"
    }
   ],
   "execution_count": 57
  },
  {
   "metadata": {
    "ExecuteTime": {
     "end_time": "2024-04-18T23:14:37.989037Z",
     "start_time": "2024-04-18T23:14:37.959484Z"
    }
   },
   "cell_type": "code",
   "source": "m.optimize()",
   "id": "60f16108cbbd1795",
   "outputs": [
    {
     "name": "stdout",
     "output_type": "stream",
     "text": [
      "Gurobi Optimizer version 11.0.1 build v11.0.1rc0 (win64 - Windows 11.0 (22631.2))\n",
      "\n",
      "CPU model: AMD Ryzen 9 5900X 12-Core Processor, instruction set [SSE2|AVX|AVX2]\n",
      "Thread count: 12 physical cores, 24 logical processors, using up to 24 threads\n",
      "\n",
      "Academic license 2495314 - for non-commercial use only - registered to re___@h-ka.de\n",
      "Optimize a model with 1 rows, 7 columns and 7 nonzeros\n",
      "Model fingerprint: 0x07ce9c7e\n",
      "Variable types: 0 continuous, 7 integer (7 binary)\n",
      "Coefficient statistics:\n",
      "  Matrix range     [1e+01, 6e+01]\n",
      "  Objective range  [3e+02, 2e+03]\n",
      "  Bounds range     [1e+00, 1e+00]\n",
      "  RHS range        [1e+02, 1e+02]\n",
      "Found heuristic solution: objective 2590.0000000\n",
      "Presolve removed 1 rows and 7 columns\n",
      "Presolve time: 0.00s\n",
      "Presolve: All rows and columns removed\n",
      "\n",
      "Explored 0 nodes (0 simplex iterations) in 0.01 seconds (0.00 work units)\n",
      "Thread count was 1 (of 24 available processors)\n",
      "\n",
      "Solution count 2: 2608 2590 \n",
      "\n",
      "Optimal solution found (tolerance 1.00e-04)\n",
      "Best objective 2.608000000000e+03, best bound 2.608000000000e+03, gap 0.0000%\n"
     ]
    }
   ],
   "execution_count": 58
  },
  {
   "metadata": {
    "ExecuteTime": {
     "end_time": "2024-04-18T23:14:38.004656Z",
     "start_time": "2024-04-18T23:14:37.990546Z"
    }
   },
   "cell_type": "code",
   "source": [
    "for y in x:\n",
    "    print(f\"{y +1}: {x[y].x}\")\n",
    "\n",
    "print(f\"Total Profit: {m.objVal}\")"
   ],
   "id": "b83ea5e9a4377290",
   "outputs": [
    {
     "name": "stdout",
     "output_type": "stream",
     "text": [
      "1: 0.0\n",
      "2: 0.0\n",
      "3: 0.0\n",
      "4: 1.0\n",
      "5: 0.0\n",
      "6: 1.0\n",
      "7: 1.0\n",
      "Total Profit: 2608.0\n"
     ]
    }
   ],
   "execution_count": 59
  },
  {
   "metadata": {
    "ExecuteTime": {
     "end_time": "2024-04-18T23:14:38.019675Z",
     "start_time": "2024-04-18T23:14:38.005655Z"
    }
   },
   "cell_type": "code",
   "source": "",
   "id": "3f823a6437eeb504",
   "outputs": [],
   "execution_count": 59
  }
 ],
 "metadata": {
  "kernelspec": {
   "display_name": "Python 3",
   "language": "python",
   "name": "python3"
  },
  "language_info": {
   "codemirror_mode": {
    "name": "ipython",
    "version": 2
   },
   "file_extension": ".py",
   "mimetype": "text/x-python",
   "name": "python",
   "nbconvert_exporter": "python",
   "pygments_lexer": "ipython2",
   "version": "2.7.6"
  }
 },
 "nbformat": 4,
 "nbformat_minor": 5
}
