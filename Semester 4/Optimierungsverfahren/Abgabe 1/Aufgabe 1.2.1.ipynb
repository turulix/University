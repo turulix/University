{
 "cells": [
  {
   "cell_type": "code",
   "id": "initial_id",
   "metadata": {
    "collapsed": true,
    "ExecuteTime": {
     "end_time": "2024-04-18T15:24:37.764492Z",
     "start_time": "2024-04-18T15:24:37.758485Z"
    }
   },
   "source": [
    "import pandas as pd\n",
    "\n",
    "import gurobipy as gp\n",
    "from gurobipy import GRB"
   ],
   "outputs": [],
   "execution_count": 53
  },
  {
   "metadata": {
    "ExecuteTime": {
     "end_time": "2024-04-18T15:24:37.779861Z",
     "start_time": "2024-04-18T15:24:37.765491Z"
    }
   },
   "cell_type": "code",
   "source": [
    "demand = {\n",
    "    \"Kunde 1\": 62,\n",
    "    \"Kunde 2\": 83,\n",
    "    \"Kunde 3\": 39,\n",
    "    \"Kunde 4\": 91,\n",
    "}\n",
    "customers = demand.keys()\n",
    "\n",
    "supply = {\n",
    "    \"Fabrik 1\": 135,\n",
    "    \"Fabrik 2\": 56,\n",
    "    \"Fabrik 3\": 93\n",
    "}\n",
    "factories = supply.keys()\n",
    "\n",
    "costs = {\n",
    "    (\"Fabrik 1\", \"Kunde 1\"): 132,\n",
    "    (\"Fabrik 1\", \"Kunde 3\"): 97,\n",
    "    (\"Fabrik 1\", \"Kunde 4\"): 103,\n",
    "    (\"Fabrik 2\", \"Kunde 1\"): 85,\n",
    "    (\"Fabrik 2\", \"Kunde 2\"): 91,\n",
    "    (\"Fabrik 3\", \"Kunde 1\"): 106,\n",
    "    (\"Fabrik 3\", \"Kunde 2\"): 89,\n",
    "    (\"Fabrik 3\", \"Kunde 3\"): 100,\n",
    "    (\"Fabrik 3\", \"Kunde 4\"): 89,\n",
    "}"
   ],
   "id": "5602368cd50d1f33",
   "outputs": [],
   "execution_count": 54
  },
  {
   "metadata": {
    "ExecuteTime": {
     "end_time": "2024-04-18T15:24:37.794926Z",
     "start_time": "2024-04-18T15:24:37.780864Z"
    }
   },
   "cell_type": "code",
   "source": [
    "# Create a new model\n",
    "m = gp.Model(\"transportation\")\n",
    "\n",
    "# Create variables\n",
    "flow = m.addVars(costs.keys(), name=\"flow\")\n",
    "flow"
   ],
   "id": "29fd7e8f25405955",
   "outputs": [
    {
     "data": {
      "text/plain": [
       "{('Fabrik 1', 'Kunde 1'): <gurobi.Var *Awaiting Model Update*>,\n",
       " ('Fabrik 1', 'Kunde 3'): <gurobi.Var *Awaiting Model Update*>,\n",
       " ('Fabrik 1', 'Kunde 4'): <gurobi.Var *Awaiting Model Update*>,\n",
       " ('Fabrik 2', 'Kunde 1'): <gurobi.Var *Awaiting Model Update*>,\n",
       " ('Fabrik 2', 'Kunde 2'): <gurobi.Var *Awaiting Model Update*>,\n",
       " ('Fabrik 3', 'Kunde 1'): <gurobi.Var *Awaiting Model Update*>,\n",
       " ('Fabrik 3', 'Kunde 2'): <gurobi.Var *Awaiting Model Update*>,\n",
       " ('Fabrik 3', 'Kunde 3'): <gurobi.Var *Awaiting Model Update*>,\n",
       " ('Fabrik 3', 'Kunde 4'): <gurobi.Var *Awaiting Model Update*>}"
      ]
     },
     "execution_count": 55,
     "metadata": {},
     "output_type": "execute_result"
    }
   ],
   "execution_count": 55
  },
  {
   "metadata": {
    "ExecuteTime": {
     "end_time": "2024-04-18T15:24:37.810492Z",
     "start_time": "2024-04-18T15:24:37.795925Z"
    }
   },
   "cell_type": "code",
   "source": [
    "# Set objective\n",
    "m.setObjective(flow.prod(costs), GRB.MINIMIZE)"
   ],
   "id": "cbabe883d86acbb1",
   "outputs": [],
   "execution_count": 56
  },
  {
   "metadata": {
    "ExecuteTime": {
     "end_time": "2024-04-18T15:24:37.825918Z",
     "start_time": "2024-04-18T15:24:37.811492Z"
    }
   },
   "cell_type": "code",
   "source": [
    "# Constraints\n",
    "# Can't exceed supply\n",
    "m.addConstrs((gp.quicksum(flow.select(f, \"*\")) <= supply[f] for f in factories), name=\"supply\")\n",
    "\n",
    "# Must meet demand\n",
    "m.addConstrs((gp.quicksum(flow.select(\"*\", c)) == demand[c] for c in customers), name=\"demand\")"
   ],
   "id": "515218d860096de2",
   "outputs": [
    {
     "data": {
      "text/plain": [
       "{'Kunde 1': <gurobi.Constr *Awaiting Model Update*>,\n",
       " 'Kunde 2': <gurobi.Constr *Awaiting Model Update*>,\n",
       " 'Kunde 3': <gurobi.Constr *Awaiting Model Update*>,\n",
       " 'Kunde 4': <gurobi.Constr *Awaiting Model Update*>}"
      ]
     },
     "execution_count": 57,
     "metadata": {},
     "output_type": "execute_result"
    }
   ],
   "execution_count": 57
  },
  {
   "metadata": {
    "ExecuteTime": {
     "end_time": "2024-04-18T15:24:37.856404Z",
     "start_time": "2024-04-18T15:24:37.825918Z"
    }
   },
   "cell_type": "code",
   "source": "m.optimize()",
   "id": "a77c04674b0febc4",
   "outputs": [
    {
     "name": "stdout",
     "output_type": "stream",
     "text": [
      "Gurobi Optimizer version 11.0.1 build v11.0.1rc0 (win64 - Windows 11.0 (22631.2))\n",
      "\n",
      "CPU model: AMD Ryzen 9 5900X 12-Core Processor, instruction set [SSE2|AVX|AVX2]\n",
      "Thread count: 12 physical cores, 24 logical processors, using up to 24 threads\n",
      "\n",
      "Academic license 2495314 - for non-commercial use only - registered to re___@h-ka.de\n",
      "Optimize a model with 7 rows, 9 columns and 18 nonzeros\n",
      "Model fingerprint: 0xe00b8a58\n",
      "Coefficient statistics:\n",
      "  Matrix range     [1e+00, 1e+00]\n",
      "  Objective range  [9e+01, 1e+02]\n",
      "  Bounds range     [0e+00, 0e+00]\n",
      "  RHS range        [4e+01, 1e+02]\n",
      "Presolve removed 3 rows and 4 columns\n",
      "Presolve time: 0.00s\n",
      "Presolved: 4 rows, 5 columns, 10 nonzeros\n",
      "\n",
      "Iteration    Objective       Primal Inf.    Dual Inf.      Time\n",
      "       0    2.4888062e+04   8.501250e+00   0.000000e+00      0s\n",
      "       3    2.5883000e+04   0.000000e+00   0.000000e+00      0s\n",
      "\n",
      "Solved in 3 iterations and 0.01 seconds (0.00 work units)\n",
      "Optimal objective  2.588300000e+04\n"
     ]
    }
   ],
   "execution_count": 58
  },
  {
   "metadata": {
    "ExecuteTime": {
     "end_time": "2024-04-18T15:24:37.871949Z",
     "start_time": "2024-04-18T15:24:37.857909Z"
    }
   },
   "cell_type": "code",
   "source": [
    "# Print solution\n",
    "if m.status == GRB.OPTIMAL:\n",
    "    solution = pd.DataFrame(columns=customers, index=factories, data=0.0)\n",
    "    for f, c in flow.keys():\n",
    "        solution.loc[f, c] = flow[f, c].x\n",
    "    print(solution)\n",
    "# Total transportation cost\n",
    "print(\"\\nTotal cost: \", m.objVal)"
   ],
   "id": "d901a00be116ecc2",
   "outputs": [
    {
     "name": "stdout",
     "output_type": "stream",
     "text": [
      "          Kunde 1  Kunde 2  Kunde 3  Kunde 4\n",
      "Fabrik 1      0.0      0.0     39.0     87.0\n",
      "Fabrik 2     56.0      0.0      0.0      0.0\n",
      "Fabrik 3      6.0     83.0      0.0      4.0\n",
      "\n",
      "Total cost:  25883.0\n"
     ]
    }
   ],
   "execution_count": 59
  }
 ],
 "metadata": {
  "kernelspec": {
   "display_name": "Python 3",
   "language": "python",
   "name": "python3"
  },
  "language_info": {
   "codemirror_mode": {
    "name": "ipython",
    "version": 2
   },
   "file_extension": ".py",
   "mimetype": "text/x-python",
   "name": "python",
   "nbconvert_exporter": "python",
   "pygments_lexer": "ipython2",
   "version": "2.7.6"
  }
 },
 "nbformat": 4,
 "nbformat_minor": 5
}
