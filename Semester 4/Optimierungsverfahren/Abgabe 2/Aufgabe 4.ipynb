{
 "cells": [
  {
   "cell_type": "code",
   "id": "initial_id",
   "metadata": {
    "collapsed": true,
    "ExecuteTime": {
     "end_time": "2024-06-17T16:45:00.066347Z",
     "start_time": "2024-06-17T16:45:00.060952Z"
    }
   },
   "source": "import numpy as np",
   "outputs": [],
   "execution_count": 21
  },
  {
   "metadata": {
    "ExecuteTime": {
     "end_time": "2024-06-17T16:45:00.081718Z",
     "start_time": "2024-06-17T16:45:00.068015Z"
    }
   },
   "cell_type": "code",
   "source": [
    "mat = [\n",
    "    [-60, 20, 20],\n",
    "    [20, -40, 20],\n",
    "    [20, 20 ,-80]\n",
    "]\n",
    "\n",
    "vec = [-150, -100, -120]"
   ],
   "id": "49312e6381e34bd",
   "outputs": [],
   "execution_count": 22
  },
  {
   "metadata": {
    "ExecuteTime": {
     "end_time": "2024-06-17T16:45:02.326836Z",
     "start_time": "2024-06-17T16:45:02.311612Z"
    }
   },
   "cell_type": "code",
   "source": [
    "critical_point = np.linalg.solve(mat, vec)\n",
    "critical_point"
   ],
   "id": "d96867f2894743bc",
   "outputs": [
    {
     "data": {
      "text/plain": [
       "array([7.34615385, 8.96153846, 5.57692308])"
      ]
     },
     "execution_count": 24,
     "metadata": {},
     "output_type": "execute_result"
    }
   ],
   "execution_count": 24
  },
  {
   "metadata": {
    "ExecuteTime": {
     "end_time": "2024-06-17T16:51:33.391696Z",
     "start_time": "2024-06-17T16:51:33.386186Z"
    }
   },
   "cell_type": "code",
   "source": "",
   "id": "c853a8c3a2682ce9",
   "outputs": [],
   "execution_count": 28
  },
  {
   "metadata": {},
   "cell_type": "code",
   "outputs": [],
   "execution_count": null,
   "source": "",
   "id": "145993c3990a3c13"
  }
 ],
 "metadata": {
  "kernelspec": {
   "display_name": "Python 3",
   "language": "python",
   "name": "python3"
  },
  "language_info": {
   "codemirror_mode": {
    "name": "ipython",
    "version": 2
   },
   "file_extension": ".py",
   "mimetype": "text/x-python",
   "name": "python",
   "nbconvert_exporter": "python",
   "pygments_lexer": "ipython2",
   "version": "2.7.6"
  }
 },
 "nbformat": 4,
 "nbformat_minor": 5
}
